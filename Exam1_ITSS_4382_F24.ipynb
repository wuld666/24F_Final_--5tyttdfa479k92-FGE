{
 "cells": [
  {
   "cell_type": "markdown",
   "metadata": {},
   "source": [
    "# Exam 1 - Part B | ITSS 4382.001 Applied AI/Machine Learning\n",
    "### <font color='red'>Due: Oct 7, 2024 3:00 pm</font> \n",
    "**PART A:** Answer the MCQs.<br>\n",
    "<font color='red'>**PART B:** Answer the following questions in the provided response boxes. You may use the online Jupyter environment to test and execute your code. After confirming your results, copy and paste your final answers into the appropriate boxes below. **Note: All answers must be submitted through eLearning for grading.**</font>"
   ]
  }]
  
}
